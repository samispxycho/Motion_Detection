{
 "cells": [
  {
   "cell_type": "code",
   "execution_count": 19,
   "id": "1eb0fb92",
   "metadata": {},
   "outputs": [],
   "source": [
    "import mediapipe as mp\n",
    "import cv2\n",
    "import numpy as np\n",
    "import pygame"
   ]
  },
  {
   "cell_type": "code",
   "execution_count": 20,
   "id": "024f9169",
   "metadata": {},
   "outputs": [
    {
     "data": {
      "text/plain": [
       "(5, 0)"
      ]
     },
     "execution_count": 20,
     "metadata": {},
     "output_type": "execute_result"
    }
   ],
   "source": [
    "pygame.mixer.init()  \n",
    "pygame.mixer.music.load(\"sound.mp3\") \n",
    "pygame.mixer.music.set_volume(0.5) \n",
    "pygame.mixer.pre_init(44100, 16, 2, 4096) \n",
    "pygame.init()"
   ]
  },
  {
   "cell_type": "code",
   "execution_count": 21,
   "id": "ca85714c",
   "metadata": {},
   "outputs": [],
   "source": [
    "mp_drawing=mp.solutions.drawing_utils      \n",
    "mp_holistic=mp.solutions.holistic          "
   ]
  },
  {
   "cell_type": "code",
   "execution_count": 22,
   "id": "393c6b1b",
   "metadata": {},
   "outputs": [],
   "source": [
    "cap=cv2.VideoCapture(0)         "
   ]
  },
  {
   "cell_type": "code",
   "execution_count": 23,
   "id": "4c44a332",
   "metadata": {},
   "outputs": [],
   "source": [
    "\n",
    "with mp_holistic.Holistic(min_detection_confidence=0.5,min_tracking_confidence=0.5) as holistic: \n",
    "    while cap.isOpened():\n",
    "        ret,frame=cap.read()       \n",
    "        ret, frame1 = cap.read()   \n",
    "        ret, frame2 = cap.read()\n",
    "\n",
    "        \n",
    "        image=cv2.cvtColor(frame,cv2.COLOR_BGR2RGB)   \n",
    "\n",
    "\n",
    "        \n",
    "        results=holistic.process(image)               \n",
    "\n",
    "        \n",
    "        \n",
    "        image=cv2.cvtColor(image,cv2.COLOR_RGB2BGR)  \n",
    "        \n",
    "        \n",
    "        \n",
    "    \n",
    "        \n",
    "    \n",
    "        mp_drawing.draw_landmarks(image,results.face_landmarks,mp_holistic.FACEMESH_TESSELATION ,\n",
    "                                  mp_drawing.DrawingSpec(color=(80,110,10), thickness=1, circle_radius=1), \n",
    "                                  mp_drawing.DrawingSpec(color=(80, 256, 121), thickness=1, circle_radius=1) \n",
    "                                  )\n",
    "\n",
    "\n",
    "        \n",
    "        mp_drawing.draw_landmarks(image, results.right_hand_landmarks, mp_holistic.HAND_CONNECTIONS ,\n",
    "                                  mp_drawing.DrawingSpec(color=(80,22,10),thickness=2,circle_radius=4),  \n",
    "                                  mp_drawing.DrawingSpec(color=(80,44,121), thickness=1,circle_radius=2)\n",
    "                                  )\n",
    "\n",
    "        \n",
    "        mp_drawing.draw_landmarks(image, results.left_hand_landmarks, mp_holistic.HAND_CONNECTIONS ,\n",
    "                                  mp_drawing.DrawingSpec(color=(121, 22, 76), thickness=2, circle_radius=4),\n",
    "                                  mp_drawing.DrawingSpec(color=(121, 44, 250), thickness=2, circle_radius=2)\n",
    "                                  )\n",
    "\n",
    "\n",
    "        \n",
    "        mp_drawing.draw_landmarks(image, results.pose_landmarks, mp_holistic.POSE_CONNECTIONS ,\n",
    "                                  mp_drawing.DrawingSpec(color=(245, 117, 66), thickness=2, circle_radius=4),\n",
    "                                  mp_drawing.DrawingSpec(color=(245, 66, 230), thickness=2, circle_radius=2)\n",
    "                                  )\n",
    "        \n",
    "        \n",
    "        \n",
    "      \n",
    "        movement_detected = False  \n",
    "        diff = cv2.absdiff(frame1, frame2) \n",
    "        gray = cv2.cvtColor(diff, cv2.COLOR_BGR2GRAY)\n",
    "        blur = cv2.GaussianBlur(gray, (5, 5), 0) \n",
    "        _, thresh = cv2.threshold(blur, 20, 255, cv2.THRESH_BINARY) \n",
    "        dilated = cv2.dilate(thresh, None, iterations=3) \n",
    "        contours, _ = cv2.findContours(dilated, cv2.RETR_TREE, cv2.CHAIN_APPROX_SIMPLE)  \n",
    "                    \n",
    "\n",
    "        for contour in contours:\n",
    "            (x, y, w, h) = cv2.boundingRect(contour) \n",
    "\n",
    "            if cv2.contourArea(contour) < 400:   \n",
    "                continue\n",
    "\n",
    "            cv2.rectangle(frame1, (0,0),(350,50), (255,255,255), -1) \n",
    "            cv2.rectangle(frame1, (x, y), (x + w, y + h), (0, 0, 256), 2) \n",
    "            cv2.putText(frame1, \"Movement Detected\", (10, 30), cv2.FONT_HERSHEY_SIMPLEX, 1, (0, 0, 255), 3) \n",
    "            movement_detected = True \n",
    "\n",
    "        cv2.drawContours(frame1, contours, -1, (0, 200, 0), 2)  \n",
    "\n",
    "        cv2.imshow(\"Movement Detection\", frame1)  \n",
    "        frame1 = frame2  \n",
    "        ret, frame2 = cap.read()  \n",
    "\n",
    "        \n",
    "        if movement_detected:\n",
    "            pygame.mixer.music.play() \n",
    "\n",
    "        movement_detected = False  \n",
    "        \n",
    "        \n",
    "        cv2.imshow(\"BODY COMPONENTS\",image)    \n",
    "\n",
    "        if cv2.waitKey(10) & 0xFF == ord('q'):   \n",
    "            break"
   ]
  },
  {
   "cell_type": "code",
   "execution_count": 24,
   "id": "93c3dc4b",
   "metadata": {},
   "outputs": [],
   "source": [
    "cap.release()   \n",
    "cv2.destroyAllWindows()  "
   ]
  }
 ],
 "metadata": {
  "kernelspec": {
   "display_name": "Python 3 (ipykernel)",
   "language": "python",
   "name": "python3"
  },
  "language_info": {
   "codemirror_mode": {
    "name": "ipython",
    "version": 3
   },
   "file_extension": ".py",
   "mimetype": "text/x-python",
   "name": "python",
   "nbconvert_exporter": "python",
   "pygments_lexer": "ipython3",
   "version": "3.9.13"
  }
 },
 "nbformat": 4,
 "nbformat_minor": 5
}
